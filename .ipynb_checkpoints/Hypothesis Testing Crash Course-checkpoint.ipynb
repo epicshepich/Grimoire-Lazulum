{
 "cells": [
  {
   "cell_type": "markdown",
   "id": "b0097cb9",
   "metadata": {},
   "source": [
    "# Crash Course on Statistics and Hypothesis Testing\n",
    "## Created by Jim Shepich\n",
    "### 21 November 2021"
   ]
  },
  {
   "cell_type": "markdown",
   "id": "0849772d",
   "metadata": {},
   "source": [
    "# Table of Contents\n",
    "- [Introduction](#Introduction)\n",
    "  - [Example: Coin Flip](#ex-coinflip)\n",
    "  - [Example: Die Roll](#ex-dieroll)\n",
    "- [Random Variables](#variables)"
   ]
  },
  {
   "cell_type": "markdown",
   "id": "8546cfb5",
   "metadata": {},
   "source": [
    "# Introduction\n",
    "\n",
    "We'll start out with some statistics terminology:\n",
    "\n",
    "- **Experiment** - any procedure that can be repeated infinitely many times and has a well-defined set of outcomes\n",
    "- **Sample Space** - the set of all possible outcomes of an experiment\n",
    "- **Event** - a collection of outcomes\n",
    "\n",
    "### Example: Coin Flip <a class=\"anchor\" id=\"ex-coinflip\"></a>\n",
    "\n",
    "Let's say we're going to perform an **experiment** where we flip three coins. The **sample space** of this experiment is the set:\n",
    "\n",
    "{TTT, TTH, THT, THH, HTT, HTH, HHT, HHH}\n",
    "\n",
    "The **event** \"there are more heads than tails\" is the subset:\n",
    "\n",
    "{THH, HTH, HHT, HHH}\n",
    "\n",
    "The **event** \"exactly two coins are tails\" is the subset:\n",
    "\n",
    "{TTH, THT, HTT}\n",
    "\n",
    "### Example: Die Roll <a class=\"anchor\" id=\"ex-dieroll\"></a>\n",
    "\n",
    "Let's say we do another **experiment** where we roll two six-sided dice. The **sample space** of the experiment is the set:\n",
    "\n",
    "### {⚀⚀, ⚀⚁, ⚀⚂, ⚀⚃, ⚀⚄, ⚀⚅, ⚁⚀, ⚁⚁, ⚁⚂, ⚁⚃, ⚁⚄, ⚁⚅, ⚂⚀, ⚂⚁, ⚂⚂, ⚂⚃, ⚂⚄, ⚂⚅, ⚃⚀, ⚃⚁, ⚃⚂, ⚃⚃, ⚃⚄, ⚃⚅, ⚄⚀, ⚄⚁, ⚄⚂, ⚄⚃, ⚄⚄, ⚄⚅, ⚅⚀, ⚅⚁, ⚅⚂, ⚅⚃, ⚅⚄, ⚅⚅}\n",
    "\n",
    "The **event** \"both dice have the same number showing\" is the subset:\n",
    "\n",
    "### {⚀⚀, ⚁⚁, ⚂⚂, ⚃⚃, ⚄⚄, ⚅⚅}\n",
    "\n",
    "And the **event** \"the sum of the two numbers showing is equal to 5\" is the subset:\n",
    "\n",
    "### {⚀⚃, ⚃⚀, ⚁⚂, ⚂⚁}"
   ]
  },
  {
   "cell_type": "markdown",
   "id": "65683b1c",
   "metadata": {},
   "source": [
    "# Probability\n",
    "\n",
    "The **probability** of an outcome is a number between 0 and 1 that indicates how often that outcome should be observed when we perform the experiment. In our two examples (Coin Toss and Die Roll), each outcome has the same probability, but that is not true for every experiment. \n",
    "\n",
    "The **probability** of an event is equal to the sum of the probabilities of the outcomes in the event. Let's go back to our examples and look at some probabilities.\n",
    "\n",
    "We can think of probability as a function that maps an outcome or event to a real number in the interval $[0,1]$. Common ways to denote the probability of an event $E$ are: $P(E)$, $Pr(E)$, or $\\mathbb{P}(E)$.\n",
    "\n",
    "## Coin Toss\n",
    "\n",
    "As we said, each outcome has an equal probability. There are 8 outcomes in the sample space, so each outcome has a probability of $\\frac{1}{8}$. \n",
    "- The event \"there are more heads than tails\" has four outcomes each with probability $\\frac{1}{8}$, so the probability of that event is $\\frac{4}{8}=\\frac{1}{2}$.\n",
    "- The event \"exactly two coins are tails\" has three outcomes each with probability $\\frac{1}{8}$, so the probability of that event is $\\frac{3}{8}$.\n",
    "\n",
    "## Die Roll\n",
    "\n",
    "As we said, each outcome has an equal probability. There are 36 outcomes in the sample space, so each outcome has a probability of $\\frac{1}{36}$. \n",
    "- The event \"both dice have the same number showing\" has 6 outcomes each with probability $\\frac{1}{36}$, so the probability of that event is $\\frac{6}{36}=\\frac{1}{6}$.\n",
    "- The event \"the sum of the two numbers showing is equal to 5\" has 4 outcomes each with probability $\\frac{1}{36}$, so the probability of that event is $\\frac{4}{36}=\\frac{1}{9}$.\n",
    "\n",
    "\n"
   ]
  },
  {
   "cell_type": "markdown",
   "id": "11f78971",
   "metadata": {},
   "source": [
    "# Random Variables <a class=\"anchor\" id=\"variables\"></a>\n",
    "\n",
    "A **random variable** is a variable whose value is determined by the outcome of a statistical experiment. Some examples of random variables and their possible values:\n",
    "\n",
    "- The number of coins that come up heads if three coins are flipped. Can be 0, 1, 2, or 3.\n",
    "- The sum of the showing numbers of two rolled (six-sided) dice. Can be any whole number between 2 and 12.\n",
    "- The number of students who show up to school on a given day. Can be as few as zero or many as all the students enrolled at the school.\n",
    "\n",
    "\n",
    "Traditionally, random variables must be real-valued. A non-numeric analogue of a random variable is a **random quantity** (source: https://stats.stackexchange.com/questions/236765/does-a-random-variable-needs-to-be-numeric). An example of a random quantity is the UV index on a given day, which can take on values of low, moderate, high, and very high. Many random quantities can represented with random variables by mapping the outcomes to real numbers (i.e. replace low, moderate, high, very high with 0, 1, 2, 3).\n"
   ]
  },
  {
   "cell_type": "markdown",
   "id": "426cface",
   "metadata": {},
   "source": [
    "## Probability of Random Variables\n",
    "\n",
    "When you are studying a random variable, you will often want to know \"what is the probability that this random variable, when measured is equal to some number?\" If $X$ is our random variable and $k$ is the outcome in question, then we write the probability as $\\mathbb{P}(X=k)$.\n",
    "\n",
    "### Example: "
   ]
  }
 ],
 "metadata": {
  "kernelspec": {
   "display_name": "Python 3",
   "language": "python",
   "name": "python3"
  },
  "language_info": {
   "codemirror_mode": {
    "name": "ipython",
    "version": 3
   },
   "file_extension": ".py",
   "mimetype": "text/x-python",
   "name": "python",
   "nbconvert_exporter": "python",
   "pygments_lexer": "ipython3",
   "version": "3.9.7"
  }
 },
 "nbformat": 4,
 "nbformat_minor": 5
}
